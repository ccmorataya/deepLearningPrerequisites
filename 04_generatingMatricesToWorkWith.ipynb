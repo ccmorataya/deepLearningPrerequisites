{
 "cells": [
  {
   "cell_type": "code",
   "execution_count": 1,
   "metadata": {},
   "outputs": [],
   "source": [
    "import numpy as np"
   ]
  },
  {
   "cell_type": "code",
   "execution_count": 3,
   "metadata": {},
   "outputs": [
    {
     "data": {
      "text/plain": [
       "array([1, 2, 3])"
      ]
     },
     "execution_count": 3,
     "metadata": {},
     "output_type": "execute_result"
    }
   ],
   "source": [
    "# classic numpy array\n",
    "np.array([1, 2, 3])"
   ]
  },
  {
   "cell_type": "code",
   "execution_count": 5,
   "metadata": {},
   "outputs": [
    {
     "data": {
      "text/plain": [
       "array([0., 0., 0., 0., 0., 0., 0., 0., 0., 0.])"
      ]
     },
     "execution_count": 5,
     "metadata": {},
     "output_type": "execute_result"
    }
   ],
   "source": [
    "# numpy array of zeros\n",
    "Z = np.zeros(10)\n",
    "Z"
   ]
  },
  {
   "cell_type": "code",
   "execution_count": 9,
   "metadata": {},
   "outputs": [
    {
     "data": {
      "text/plain": [
       "array([[0., 0., 0., 0., 0., 0., 0., 0., 0., 0.],\n",
       "       [0., 0., 0., 0., 0., 0., 0., 0., 0., 0.],\n",
       "       [0., 0., 0., 0., 0., 0., 0., 0., 0., 0.],\n",
       "       [0., 0., 0., 0., 0., 0., 0., 0., 0., 0.],\n",
       "       [0., 0., 0., 0., 0., 0., 0., 0., 0., 0.],\n",
       "       [0., 0., 0., 0., 0., 0., 0., 0., 0., 0.],\n",
       "       [0., 0., 0., 0., 0., 0., 0., 0., 0., 0.],\n",
       "       [0., 0., 0., 0., 0., 0., 0., 0., 0., 0.],\n",
       "       [0., 0., 0., 0., 0., 0., 0., 0., 0., 0.],\n",
       "       [0., 0., 0., 0., 0., 0., 0., 0., 0., 0.]])"
      ]
     },
     "execution_count": 9,
     "metadata": {},
     "output_type": "execute_result"
    }
   ],
   "source": [
    "# numpy matrix (array) of zeros 10x10\n",
    "Z = np.zeros((10, 10))\n",
    "Z"
   ]
  },
  {
   "cell_type": "code",
   "execution_count": 10,
   "metadata": {},
   "outputs": [
    {
     "data": {
      "text/plain": [
       "array([[1., 1., 1., 1., 1., 1., 1., 1., 1., 1.],\n",
       "       [1., 1., 1., 1., 1., 1., 1., 1., 1., 1.],\n",
       "       [1., 1., 1., 1., 1., 1., 1., 1., 1., 1.],\n",
       "       [1., 1., 1., 1., 1., 1., 1., 1., 1., 1.],\n",
       "       [1., 1., 1., 1., 1., 1., 1., 1., 1., 1.],\n",
       "       [1., 1., 1., 1., 1., 1., 1., 1., 1., 1.],\n",
       "       [1., 1., 1., 1., 1., 1., 1., 1., 1., 1.],\n",
       "       [1., 1., 1., 1., 1., 1., 1., 1., 1., 1.],\n",
       "       [1., 1., 1., 1., 1., 1., 1., 1., 1., 1.],\n",
       "       [1., 1., 1., 1., 1., 1., 1., 1., 1., 1.]])"
      ]
     },
     "execution_count": 10,
     "metadata": {},
     "output_type": "execute_result"
    }
   ],
   "source": [
    "# numpy matrix (array) of ones 10x10\n",
    "O = np.ones((10, 10))\n",
    "O"
   ]
  },
  {
   "cell_type": "code",
   "execution_count": 11,
   "metadata": {},
   "outputs": [
    {
     "data": {
      "text/plain": [
       "array([[0.57088668, 0.74536053, 0.34995114, 0.03410958, 0.10280582,\n",
       "        0.67316231, 0.32020024, 0.09375954, 0.50698972, 0.28855876],\n",
       "       [0.75632069, 0.33994611, 0.03618514, 0.58645714, 0.53589636,\n",
       "        0.5955787 , 0.3021027 , 0.11568088, 0.34251245, 0.67243144],\n",
       "       [0.82774995, 0.68727272, 0.19273751, 0.20999907, 0.24568969,\n",
       "        0.48681957, 0.29702083, 0.72190359, 0.63923927, 0.50008683],\n",
       "       [0.86281691, 0.43817444, 0.00808159, 0.84060816, 0.93783262,\n",
       "        0.59461297, 0.42340809, 0.80930056, 0.58607878, 0.88858439],\n",
       "       [0.61440533, 0.86266682, 0.00509762, 0.55124944, 0.46705088,\n",
       "        0.74475902, 0.1754736 , 0.89459834, 0.670482  , 0.56460832],\n",
       "       [0.03042759, 0.75885994, 0.22016346, 0.55462263, 0.00478131,\n",
       "        0.81293291, 0.96683017, 0.03017485, 0.37004221, 0.08807036],\n",
       "       [0.38949644, 0.90847054, 0.54694772, 0.14610773, 0.07188159,\n",
       "        0.33105806, 0.87813272, 0.85216736, 0.35057887, 0.43651751],\n",
       "       [0.82420175, 0.19666487, 0.14192269, 0.70782508, 0.62247766,\n",
       "        0.48818449, 0.81554755, 0.17770864, 0.93871353, 0.9901471 ],\n",
       "       [0.51118485, 0.86786768, 0.88399028, 0.74682984, 0.82320914,\n",
       "        0.2971033 , 0.65334074, 0.95849626, 0.98438757, 0.9411615 ],\n",
       "       [0.341089  , 0.61051488, 0.74039887, 0.15121156, 0.47750201,\n",
       "        0.08317488, 0.31509718, 0.98138532, 0.49794076, 0.45039345]])"
      ]
     },
     "execution_count": 11,
     "metadata": {},
     "output_type": "execute_result"
    }
   ],
   "source": [
    "# numpy matrix (array) of random numbers 10x10\n",
    "R = np.random.random((10, 10))\n",
    "R"
   ]
  },
  {
   "cell_type": "code",
   "execution_count": 12,
   "metadata": {},
   "outputs": [
    {
     "ename": "TypeError",
     "evalue": "'tuple' object cannot be interpreted as an integer",
     "output_type": "error",
     "traceback": [
      "\u001b[0;31m-----------------------------------------------------------------\u001b[0m",
      "\u001b[0;31mTypeError\u001b[0m                       Traceback (most recent call last)",
      "\u001b[0;32m<ipython-input-12-ff72d4287161>\u001b[0m in \u001b[0;36m<module>\u001b[0;34m\u001b[0m\n\u001b[1;32m      1\u001b[0m \u001b[0;31m# numpy matrix (array) of random numbers with gaussian distribution 10x10\u001b[0m\u001b[0;34m\u001b[0m\u001b[0;34m\u001b[0m\u001b[0;34m\u001b[0m\u001b[0m\n\u001b[0;32m----> 2\u001b[0;31m \u001b[0mG\u001b[0m \u001b[0;34m=\u001b[0m \u001b[0mnp\u001b[0m\u001b[0;34m.\u001b[0m\u001b[0mrandom\u001b[0m\u001b[0;34m.\u001b[0m\u001b[0mrandn\u001b[0m\u001b[0;34m(\u001b[0m\u001b[0;34m(\u001b[0m\u001b[0;36m10\u001b[0m\u001b[0;34m,\u001b[0m \u001b[0;36m10\u001b[0m\u001b[0;34m)\u001b[0m\u001b[0;34m)\u001b[0m\u001b[0;34m\u001b[0m\u001b[0;34m\u001b[0m\u001b[0m\n\u001b[0m\u001b[1;32m      3\u001b[0m \u001b[0mG\u001b[0m\u001b[0;34m\u001b[0m\u001b[0;34m\u001b[0m\u001b[0m\n",
      "\u001b[0;32mmtrand.pyx\u001b[0m in \u001b[0;36mmtrand.RandomState.randn\u001b[0;34m()\u001b[0m\n",
      "\u001b[0;32mmtrand.pyx\u001b[0m in \u001b[0;36mmtrand.RandomState.standard_normal\u001b[0;34m()\u001b[0m\n",
      "\u001b[0;32mmtrand.pyx\u001b[0m in \u001b[0;36mmtrand.cont0_array\u001b[0;34m()\u001b[0m\n",
      "\u001b[0;31mTypeError\u001b[0m: 'tuple' object cannot be interpreted as an integer"
     ]
    }
   ],
   "source": [
    "# numpy matrix (array) of random numbers with gaussian distribution 10x10\n",
    "G = np.random.randn((10, 10))\n",
    "G\n",
    "# .randn doesnt interpret tuples, needs individual dimensions as agruments"
   ]
  },
  {
   "cell_type": "code",
   "execution_count": 13,
   "metadata": {},
   "outputs": [
    {
     "data": {
      "text/plain": [
       "array([[ 0.16645118, -0.30752358,  1.23544286,  0.45333071,  2.57201771,\n",
       "         0.90694225,  0.20442987, -0.06475084,  0.70450352,  1.10847161],\n",
       "       [-1.7795046 , -0.48223473, -0.03792041,  0.72528758, -0.13807624,\n",
       "         0.05573555,  0.26200306,  0.37151936, -0.41100679, -0.87920129],\n",
       "       [-0.62172243,  0.25570287,  0.96038835,  0.48248581, -1.27351207,\n",
       "        -0.17550832,  1.01685686, -1.45532715, -0.08466982,  1.03238291],\n",
       "       [-1.45817475,  0.26915552, -1.2943254 , -0.23960977,  0.51838518,\n",
       "        -1.27134045,  0.52454059,  1.07755841,  1.21564941, -0.3562773 ],\n",
       "       [-0.21248224, -1.58493331,  1.41648067,  0.08432536,  1.12920249,\n",
       "        -2.15595838, -1.12541987, -0.46256293, -0.65899403,  0.86509156],\n",
       "       [-0.94505294, -1.79943125, -0.66919497,  2.07428943, -1.2441447 ,\n",
       "         0.96829326,  0.99269816,  0.3109508 , -0.32451326,  0.09670644],\n",
       "       [-0.11543171, -0.30230365,  0.82521481,  0.86004833, -0.62285173,\n",
       "        -1.05906116,  2.00944333,  0.42830198,  0.66181872,  0.47091716],\n",
       "       [-0.49219017,  0.3668899 ,  1.40839427, -0.87335766, -2.18759765,\n",
       "        -0.96820041, -0.94802958, -2.45678844, -0.81310517,  0.64220632],\n",
       "       [ 0.01000449, -0.35433219, -1.07665185,  0.40896883,  2.00391452,\n",
       "         0.16670756, -0.23146501, -0.1259349 , -1.84980381, -0.96541277],\n",
       "       [-0.16891034,  1.47666947,  1.49495101,  0.05426083, -0.28660451,\n",
       "        -0.15319506, -1.73754369, -1.17215942, -0.47220497,  0.63631034]])"
      ]
     },
     "execution_count": 13,
     "metadata": {},
     "output_type": "execute_result"
    }
   ],
   "source": [
    "# correction for randn()\n",
    "G = np.random.randn(10, 10)\n",
    "G"
   ]
  },
  {
   "cell_type": "code",
   "execution_count": 14,
   "metadata": {},
   "outputs": [
    {
     "data": {
      "text/plain": [
       "-0.049642084749604506"
      ]
     },
     "execution_count": 14,
     "metadata": {},
     "output_type": "execute_result"
    }
   ],
   "source": [
    "# get the mean with numpy\n",
    "G.mean()"
   ]
  },
  {
   "cell_type": "code",
   "execution_count": 15,
   "metadata": {},
   "outputs": [
    {
     "data": {
      "text/plain": [
       "1.0223955623309902"
      ]
     },
     "execution_count": 15,
     "metadata": {},
     "output_type": "execute_result"
    }
   ],
   "source": [
    "# get the variance with numpy\n",
    "G.var()"
   ]
  }
 ],
 "metadata": {
  "kernelspec": {
   "display_name": "Python 3",
   "language": "python",
   "name": "python3"
  },
  "language_info": {
   "codemirror_mode": {
    "name": "ipython",
    "version": 3
   },
   "file_extension": ".py",
   "mimetype": "text/x-python",
   "name": "python",
   "nbconvert_exporter": "python",
   "pygments_lexer": "ipython3",
   "version": "3.7.1"
  }
 },
 "nbformat": 4,
 "nbformat_minor": 2
}
